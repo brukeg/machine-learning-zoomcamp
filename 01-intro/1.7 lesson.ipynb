{
 "cells": [
  {
   "cell_type": "code",
   "execution_count": 1,
   "id": "737efbc7-a91c-4d14-a4f7-7e25ef85f34b",
   "metadata": {},
   "outputs": [],
   "source": [
    "import pandas as pd"
   ]
  },
  {
   "cell_type": "code",
   "execution_count": null,
   "id": "63420a96-6416-4322-9ef3-933faa77a3f1",
   "metadata": {},
   "outputs": [],
   "source": [
    "pandas.readcsv('')"
   ]
  },
  {
   "cell_type": "code",
   "execution_count": null,
   "id": "a779c034-143b-41e9-8c7b-03fcf2397e9d",
   "metadata": {},
   "outputs": [],
   "source": []
  }
 ],
 "metadata": {
  "kernelspec": {
   "display_name": "Python 3 (ipykernel)",
   "language": "python",
   "name": "python3"
  },
  "language_info": {
   "codemirror_mode": {
    "name": "ipython",
    "version": 3
   },
   "file_extension": ".py",
   "mimetype": "text/x-python",
   "name": "python",
   "nbconvert_exporter": "python",
   "pygments_lexer": "ipython3",
   "version": "3.12.1"
  }
 },
 "nbformat": 4,
 "nbformat_minor": 5
}
