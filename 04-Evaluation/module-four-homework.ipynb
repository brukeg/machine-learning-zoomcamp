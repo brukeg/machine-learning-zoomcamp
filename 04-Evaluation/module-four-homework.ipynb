{
 "cells": [
  {
   "cell_type": "code",
   "execution_count": 1,
   "id": "2ac2444d-f01d-449f-aef7-1e9ab4c51c93",
   "metadata": {},
   "outputs": [],
   "source": [
    "import pandas as pd\n",
    "import numpy as np\n",
    "\n",
    "import matplotlib.pyplot as plt"
   ]
  },
  {
   "cell_type": "code",
   "execution_count": 2,
   "id": "66efbb88-3c03-43ca-83c7-27de048b51d0",
   "metadata": {},
   "outputs": [],
   "source": [
    "from sklearn.model_selection import train_test_split\n",
    "from sklearn.feature_extraction import DictVectorizer\n",
    "from sklearn.linear_model import LogisticRegression\n",
    "from sklearn.model_selection import KFold"
   ]
  },
  {
   "cell_type": "code",
   "execution_count": 3,
   "id": "adefa70b-43df-4423-962d-b517a0b4c2e4",
   "metadata": {},
   "outputs": [],
   "source": [
    "import random\n",
    "\n",
    "from sklearn.metrics import accuracy_score\n",
    "from sklearn.metrics import roc_curve\n",
    "from sklearn.metrics import auc\n",
    "from sklearn.metrics import roc_auc_score\n",
    "\n",
    "from collections import Counter\n",
    "from tqdm.auto import tqdm"
   ]
  },
  {
   "cell_type": "code",
   "execution_count": 4,
   "id": "ff101037-c1d3-432e-bab3-50d9c18c6ef5",
   "metadata": {},
   "outputs": [
    {
     "name": "stdout",
     "output_type": "stream",
     "text": [
      "--2025-10-20 04:21:29--  https://raw.githubusercontent.com/alexeygrigorev/datasets/master/course_lead_scoring.csv\n",
      "Resolving raw.githubusercontent.com (raw.githubusercontent.com)... 185.199.109.133, 185.199.110.133, 185.199.111.133, ...\n",
      "Connecting to raw.githubusercontent.com (raw.githubusercontent.com)|185.199.109.133|:443... connected.\n",
      "HTTP request sent, awaiting response... 200 OK\n",
      "Length: 80876 (79K) [text/plain]\n",
      "Saving to: ‘course_lead_scoring.csv.2’\n",
      "\n",
      "course_lead_scoring 100%[===================>]  78.98K  --.-KB/s    in 0.005s  \n",
      "\n",
      "2025-10-20 04:21:29 (14.5 MB/s) - ‘course_lead_scoring.csv.2’ saved [80876/80876]\n",
      "\n"
     ]
    }
   ],
   "source": [
    "data = 'https://raw.githubusercontent.com/alexeygrigorev/datasets/master/course_lead_scoring.csv'\n",
    "\n",
    "!wget $data"
   ]
  },
  {
   "cell_type": "markdown",
   "id": "492ee625-7d73-4c89-9930-ab0d13205864",
   "metadata": {},
   "source": [
    "# Data Preparation"
   ]
  },
  {
   "cell_type": "code",
   "execution_count": 5,
   "id": "9148a71c-7473-46fe-934a-004a10eb7486",
   "metadata": {},
   "outputs": [
    {
     "data": {
      "text/html": [
       "<div>\n",
       "<style scoped>\n",
       "    .dataframe tbody tr th:only-of-type {\n",
       "        vertical-align: middle;\n",
       "    }\n",
       "\n",
       "    .dataframe tbody tr th {\n",
       "        vertical-align: top;\n",
       "    }\n",
       "\n",
       "    .dataframe thead th {\n",
       "        text-align: right;\n",
       "    }\n",
       "</style>\n",
       "<table border=\"1\" class=\"dataframe\">\n",
       "  <thead>\n",
       "    <tr style=\"text-align: right;\">\n",
       "      <th></th>\n",
       "      <th>lead_source</th>\n",
       "      <th>industry</th>\n",
       "      <th>number_of_courses_viewed</th>\n",
       "      <th>annual_income</th>\n",
       "      <th>employment_status</th>\n",
       "      <th>location</th>\n",
       "      <th>interaction_count</th>\n",
       "      <th>lead_score</th>\n",
       "      <th>converted</th>\n",
       "    </tr>\n",
       "  </thead>\n",
       "  <tbody>\n",
       "    <tr>\n",
       "      <th>0</th>\n",
       "      <td>paid_ads</td>\n",
       "      <td>NaN</td>\n",
       "      <td>1</td>\n",
       "      <td>79450.0</td>\n",
       "      <td>unemployed</td>\n",
       "      <td>south_america</td>\n",
       "      <td>4</td>\n",
       "      <td>0.94</td>\n",
       "      <td>1</td>\n",
       "    </tr>\n",
       "    <tr>\n",
       "      <th>1</th>\n",
       "      <td>social_media</td>\n",
       "      <td>retail</td>\n",
       "      <td>1</td>\n",
       "      <td>46992.0</td>\n",
       "      <td>employed</td>\n",
       "      <td>south_america</td>\n",
       "      <td>1</td>\n",
       "      <td>0.80</td>\n",
       "      <td>0</td>\n",
       "    </tr>\n",
       "    <tr>\n",
       "      <th>2</th>\n",
       "      <td>events</td>\n",
       "      <td>healthcare</td>\n",
       "      <td>5</td>\n",
       "      <td>78796.0</td>\n",
       "      <td>unemployed</td>\n",
       "      <td>australia</td>\n",
       "      <td>3</td>\n",
       "      <td>0.69</td>\n",
       "      <td>1</td>\n",
       "    </tr>\n",
       "    <tr>\n",
       "      <th>3</th>\n",
       "      <td>paid_ads</td>\n",
       "      <td>retail</td>\n",
       "      <td>2</td>\n",
       "      <td>83843.0</td>\n",
       "      <td>NaN</td>\n",
       "      <td>australia</td>\n",
       "      <td>1</td>\n",
       "      <td>0.87</td>\n",
       "      <td>0</td>\n",
       "    </tr>\n",
       "    <tr>\n",
       "      <th>4</th>\n",
       "      <td>referral</td>\n",
       "      <td>education</td>\n",
       "      <td>3</td>\n",
       "      <td>85012.0</td>\n",
       "      <td>self_employed</td>\n",
       "      <td>europe</td>\n",
       "      <td>3</td>\n",
       "      <td>0.62</td>\n",
       "      <td>1</td>\n",
       "    </tr>\n",
       "  </tbody>\n",
       "</table>\n",
       "</div>"
      ],
      "text/plain": [
       "    lead_source    industry  number_of_courses_viewed  annual_income  \\\n",
       "0      paid_ads         NaN                         1        79450.0   \n",
       "1  social_media      retail                         1        46992.0   \n",
       "2        events  healthcare                         5        78796.0   \n",
       "3      paid_ads      retail                         2        83843.0   \n",
       "4      referral   education                         3        85012.0   \n",
       "\n",
       "  employment_status       location  interaction_count  lead_score  converted  \n",
       "0        unemployed  south_america                  4        0.94          1  \n",
       "1          employed  south_america                  1        0.80          0  \n",
       "2        unemployed      australia                  3        0.69          1  \n",
       "3               NaN      australia                  1        0.87          0  \n",
       "4     self_employed         europe                  3        0.62          1  "
      ]
     },
     "execution_count": 5,
     "metadata": {},
     "output_type": "execute_result"
    }
   ],
   "source": [
    "df = pd.read_csv('course_lead_scoring.csv')\n",
    "\n",
    "df.head()"
   ]
  },
  {
   "cell_type": "code",
   "execution_count": 6,
   "id": "749b0adf-9b2d-4bc8-959b-963bda23556f",
   "metadata": {},
   "outputs": [],
   "source": [
    "# it looks like data is already low-cased and camel_cased but just in case:\n",
    "\n",
    "df.columns = df.columns.str.lower().str.replace(' ', '_')"
   ]
  },
  {
   "cell_type": "code",
   "execution_count": 7,
   "id": "3492d60e-c119-47e3-8337-a2cf5224cc12",
   "metadata": {},
   "outputs": [
    {
     "data": {
      "text/html": [
       "<div>\n",
       "<style scoped>\n",
       "    .dataframe tbody tr th:only-of-type {\n",
       "        vertical-align: middle;\n",
       "    }\n",
       "\n",
       "    .dataframe tbody tr th {\n",
       "        vertical-align: top;\n",
       "    }\n",
       "\n",
       "    .dataframe thead th {\n",
       "        text-align: right;\n",
       "    }\n",
       "</style>\n",
       "<table border=\"1\" class=\"dataframe\">\n",
       "  <thead>\n",
       "    <tr style=\"text-align: right;\">\n",
       "      <th></th>\n",
       "      <th>lead_source</th>\n",
       "      <th>industry</th>\n",
       "      <th>number_of_courses_viewed</th>\n",
       "      <th>annual_income</th>\n",
       "      <th>employment_status</th>\n",
       "      <th>location</th>\n",
       "      <th>interaction_count</th>\n",
       "      <th>lead_score</th>\n",
       "      <th>converted</th>\n",
       "    </tr>\n",
       "  </thead>\n",
       "  <tbody>\n",
       "    <tr>\n",
       "      <th>0</th>\n",
       "      <td>paid_ads</td>\n",
       "      <td>NaN</td>\n",
       "      <td>1</td>\n",
       "      <td>79450.0</td>\n",
       "      <td>unemployed</td>\n",
       "      <td>south_america</td>\n",
       "      <td>4</td>\n",
       "      <td>0.94</td>\n",
       "      <td>1</td>\n",
       "    </tr>\n",
       "    <tr>\n",
       "      <th>1</th>\n",
       "      <td>social_media</td>\n",
       "      <td>retail</td>\n",
       "      <td>1</td>\n",
       "      <td>46992.0</td>\n",
       "      <td>employed</td>\n",
       "      <td>south_america</td>\n",
       "      <td>1</td>\n",
       "      <td>0.80</td>\n",
       "      <td>0</td>\n",
       "    </tr>\n",
       "    <tr>\n",
       "      <th>2</th>\n",
       "      <td>events</td>\n",
       "      <td>healthcare</td>\n",
       "      <td>5</td>\n",
       "      <td>78796.0</td>\n",
       "      <td>unemployed</td>\n",
       "      <td>australia</td>\n",
       "      <td>3</td>\n",
       "      <td>0.69</td>\n",
       "      <td>1</td>\n",
       "    </tr>\n",
       "    <tr>\n",
       "      <th>3</th>\n",
       "      <td>paid_ads</td>\n",
       "      <td>retail</td>\n",
       "      <td>2</td>\n",
       "      <td>83843.0</td>\n",
       "      <td>NaN</td>\n",
       "      <td>australia</td>\n",
       "      <td>1</td>\n",
       "      <td>0.87</td>\n",
       "      <td>0</td>\n",
       "    </tr>\n",
       "    <tr>\n",
       "      <th>4</th>\n",
       "      <td>referral</td>\n",
       "      <td>education</td>\n",
       "      <td>3</td>\n",
       "      <td>85012.0</td>\n",
       "      <td>self_employed</td>\n",
       "      <td>europe</td>\n",
       "      <td>3</td>\n",
       "      <td>0.62</td>\n",
       "      <td>1</td>\n",
       "    </tr>\n",
       "  </tbody>\n",
       "</table>\n",
       "</div>"
      ],
      "text/plain": [
       "    lead_source    industry  number_of_courses_viewed  annual_income  \\\n",
       "0      paid_ads         NaN                         1        79450.0   \n",
       "1  social_media      retail                         1        46992.0   \n",
       "2        events  healthcare                         5        78796.0   \n",
       "3      paid_ads      retail                         2        83843.0   \n",
       "4      referral   education                         3        85012.0   \n",
       "\n",
       "  employment_status       location  interaction_count  lead_score  converted  \n",
       "0        unemployed  south_america                  4        0.94          1  \n",
       "1          employed  south_america                  1        0.80          0  \n",
       "2        unemployed      australia                  3        0.69          1  \n",
       "3               NaN      australia                  1        0.87          0  \n",
       "4     self_employed         europe                  3        0.62          1  "
      ]
     },
     "execution_count": 7,
     "metadata": {},
     "output_type": "execute_result"
    }
   ],
   "source": [
    "df.head()"
   ]
  },
  {
   "cell_type": "code",
   "execution_count": 8,
   "id": "6b828403-1181-497a-8e8e-37327b1c3845",
   "metadata": {},
   "outputs": [
    {
     "data": {
      "text/plain": [
       "lead_source                 128\n",
       "industry                    134\n",
       "number_of_courses_viewed      0\n",
       "annual_income               181\n",
       "employment_status           100\n",
       "location                     63\n",
       "interaction_count             0\n",
       "lead_score                    0\n",
       "converted                     0\n",
       "dtype: int64"
      ]
     },
     "execution_count": 8,
     "metadata": {},
     "output_type": "execute_result"
    }
   ],
   "source": [
    "# Are there null or missing values\n",
    "df.isnull().sum()"
   ]
  },
  {
   "cell_type": "code",
   "execution_count": 9,
   "id": "5974a5b3-4cb9-4725-b02e-a33bcc2997ac",
   "metadata": {},
   "outputs": [
    {
     "data": {
      "text/plain": [
       "lead_source                  object\n",
       "industry                     object\n",
       "number_of_courses_viewed      int64\n",
       "annual_income               float64\n",
       "employment_status            object\n",
       "location                     object\n",
       "interaction_count             int64\n",
       "lead_score                  float64\n",
       "converted                     int64\n",
       "dtype: object"
      ]
     },
     "execution_count": 9,
     "metadata": {},
     "output_type": "execute_result"
    }
   ],
   "source": [
    "# categorical = ['lead_source', 'industry', 'employment_status', 'location']\n",
    "# numerical = ['number_of_courses_viewed', 'annual_income', 'interaction_count', 'lead_score']\n",
    "\n",
    "df.dtypes"
   ]
  },
  {
   "cell_type": "code",
   "execution_count": 10,
   "id": "7bcf6b64-6282-4ef6-966c-2dee3030ea21",
   "metadata": {},
   "outputs": [],
   "source": [
    "# replace missing categorical values with NA and missing numeric values with 0.\n",
    "\n",
    "categorical_columns = list(df.dtypes[df.dtypes == 'object'].index)\n",
    "\n",
    "for c in categorical_columns:\n",
    "    df[c] = df[c].fillna('na').str.lower()\n",
    "\n",
    "df.annual_income = pd.to_numeric(df.annual_income, errors='coerce')\n",
    "df.annual_income = df.annual_income.fillna(0)"
   ]
  },
  {
   "cell_type": "code",
   "execution_count": 11,
   "id": "63d8b61f-fca2-49f2-b233-2b80e2c3466a",
   "metadata": {},
   "outputs": [
    {
     "data": {
      "text/plain": [
       "lead_source                 0\n",
       "industry                    0\n",
       "number_of_courses_viewed    0\n",
       "annual_income               0\n",
       "employment_status           0\n",
       "location                    0\n",
       "interaction_count           0\n",
       "lead_score                  0\n",
       "converted                   0\n",
       "dtype: int64"
      ]
     },
     "execution_count": 11,
     "metadata": {},
     "output_type": "execute_result"
    }
   ],
   "source": [
    "# confirm there are no missing values\n",
    "\n",
    "df.isnull().sum()"
   ]
  },
  {
   "cell_type": "code",
   "execution_count": 12,
   "id": "4dcaad76-2057-4aa5-bb48-b1c7f0fda8e6",
   "metadata": {},
   "outputs": [
    {
     "data": {
      "text/plain": [
       "1462"
      ]
     },
     "execution_count": 12,
     "metadata": {},
     "output_type": "execute_result"
    }
   ],
   "source": [
    "# we need to split df into train, test, and validation with 60%/20%/20% distribution.\n",
    "# 1462-(292+292) = 878\n",
    "# .2 then .33\n",
    "len(df)"
   ]
  },
  {
   "cell_type": "code",
   "execution_count": 13,
   "id": "4f3f8679-6400-4323-9eb7-555aa0369272",
   "metadata": {},
   "outputs": [],
   "source": [
    "# Split the data into 3 parts: train/validation/test with 60%/20%/20% distribution\n",
    "\n",
    "df_full_train, df_test = train_test_split(df,  test_size=0.2, random_state=1)\n",
    "df_train, df_val = train_test_split(df_full_train, test_size=0.25, random_state=1)\n",
    "\n",
    "df_train = df_train.reset_index(drop=True)\n",
    "df_val = df_val.reset_index(drop=True)\n",
    "df_test = df_test.reset_index(drop=True)\n",
    "\n",
    "y_train = df_train.converted.values\n",
    "y_val = df_val.converted.values\n",
    "y_test = df_test.converted.values\n",
    "\n",
    "del df_train['converted']\n",
    "del df_val['converted']\n",
    "del df_test['converted']"
   ]
  },
  {
   "cell_type": "code",
   "execution_count": 14,
   "id": "a4a5f829-a58b-4448-9720-71f18c3434d5",
   "metadata": {},
   "outputs": [
    {
     "data": {
      "text/plain": [
       "(876, 293, 293)"
      ]
     },
     "execution_count": 14,
     "metadata": {},
     "output_type": "execute_result"
    }
   ],
   "source": [
    "len(df_train), len(df_val), len(df_test)"
   ]
  },
  {
   "cell_type": "code",
   "execution_count": 15,
   "id": "26b4a1ab-f54f-4922-b9eb-543ae3de4219",
   "metadata": {},
   "outputs": [
    {
     "data": {
      "text/html": [
       "<div>\n",
       "<style scoped>\n",
       "    .dataframe tbody tr th:only-of-type {\n",
       "        vertical-align: middle;\n",
       "    }\n",
       "\n",
       "    .dataframe tbody tr th {\n",
       "        vertical-align: top;\n",
       "    }\n",
       "\n",
       "    .dataframe thead th {\n",
       "        text-align: right;\n",
       "    }\n",
       "</style>\n",
       "<table border=\"1\" class=\"dataframe\">\n",
       "  <thead>\n",
       "    <tr style=\"text-align: right;\">\n",
       "      <th></th>\n",
       "      <th>lead_source</th>\n",
       "      <th>industry</th>\n",
       "      <th>number_of_courses_viewed</th>\n",
       "      <th>annual_income</th>\n",
       "      <th>employment_status</th>\n",
       "      <th>location</th>\n",
       "      <th>interaction_count</th>\n",
       "      <th>lead_score</th>\n",
       "    </tr>\n",
       "  </thead>\n",
       "  <tbody>\n",
       "    <tr>\n",
       "      <th>0</th>\n",
       "      <td>events</td>\n",
       "      <td>manufacturing</td>\n",
       "      <td>2</td>\n",
       "      <td>95543.0</td>\n",
       "      <td>unemployed</td>\n",
       "      <td>europe</td>\n",
       "      <td>3</td>\n",
       "      <td>0.78</td>\n",
       "    </tr>\n",
       "    <tr>\n",
       "      <th>1</th>\n",
       "      <td>referral</td>\n",
       "      <td>na</td>\n",
       "      <td>1</td>\n",
       "      <td>54924.0</td>\n",
       "      <td>student</td>\n",
       "      <td>south_america</td>\n",
       "      <td>6</td>\n",
       "      <td>0.39</td>\n",
       "    </tr>\n",
       "    <tr>\n",
       "      <th>2</th>\n",
       "      <td>organic_search</td>\n",
       "      <td>healthcare</td>\n",
       "      <td>2</td>\n",
       "      <td>77352.0</td>\n",
       "      <td>unemployed</td>\n",
       "      <td>europe</td>\n",
       "      <td>2</td>\n",
       "      <td>0.22</td>\n",
       "    </tr>\n",
       "    <tr>\n",
       "      <th>3</th>\n",
       "      <td>paid_ads</td>\n",
       "      <td>other</td>\n",
       "      <td>2</td>\n",
       "      <td>34600.0</td>\n",
       "      <td>employed</td>\n",
       "      <td>south_america</td>\n",
       "      <td>2</td>\n",
       "      <td>0.31</td>\n",
       "    </tr>\n",
       "    <tr>\n",
       "      <th>4</th>\n",
       "      <td>paid_ads</td>\n",
       "      <td>education</td>\n",
       "      <td>0</td>\n",
       "      <td>43615.0</td>\n",
       "      <td>unemployed</td>\n",
       "      <td>south_america</td>\n",
       "      <td>2</td>\n",
       "      <td>0.01</td>\n",
       "    </tr>\n",
       "  </tbody>\n",
       "</table>\n",
       "</div>"
      ],
      "text/plain": [
       "      lead_source       industry  number_of_courses_viewed  annual_income  \\\n",
       "0          events  manufacturing                         2        95543.0   \n",
       "1        referral             na                         1        54924.0   \n",
       "2  organic_search     healthcare                         2        77352.0   \n",
       "3        paid_ads          other                         2        34600.0   \n",
       "4        paid_ads      education                         0        43615.0   \n",
       "\n",
       "  employment_status       location  interaction_count  lead_score  \n",
       "0        unemployed         europe                  3        0.78  \n",
       "1           student  south_america                  6        0.39  \n",
       "2        unemployed         europe                  2        0.22  \n",
       "3          employed  south_america                  2        0.31  \n",
       "4        unemployed  south_america                  2        0.01  "
      ]
     },
     "execution_count": 15,
     "metadata": {},
     "output_type": "execute_result"
    }
   ],
   "source": [
    "# double check eveyrthing looks right\n",
    "df_train.head()"
   ]
  },
  {
   "cell_type": "markdown",
   "id": "970eed62-00f6-4856-9791-0f742bbb70e2",
   "metadata": {},
   "source": [
    "# Question 1"
   ]
  },
  {
   "cell_type": "code",
   "execution_count": 16,
   "id": "87a095b6-917b-4691-80e3-1c4e398c23ee",
   "metadata": {},
   "outputs": [],
   "source": [
    "numeric_features = ['lead_score', 'number_of_courses_viewed', 'interaction_count','annual_income']"
   ]
  },
  {
   "cell_type": "code",
   "execution_count": 17,
   "id": "26a2aa98-a119-43ef-8901-1293e70881a3",
   "metadata": {},
   "outputs": [],
   "source": [
    "# compute AUC for a single feature, with inversion if needed\n",
    "\n",
    "def auc_with_possible_inversion(scores, y_true):\n",
    "    \"\"\"Compute ROC AUC for a score vector; if < 0.5, invert scores and recompute.\n",
    "    Returns (final_auc, inverted_flag).\"\"\"\n",
    "    \n",
    "    s = np.asarray(scores)\n",
    "    y = np.asarray(y_true)\n",
    "    \n",
    "    if np.all(s == s[0]):\n",
    "        return 0.5, False\n",
    "\n",
    "    auc = roc_auc_score(y, s)\n",
    "    if auc < 0.5:\n",
    "        auc = roc_auc_score(y, -s)\n",
    "        return auc, True\n",
    "    else:\n",
    "        return auc, False\n"
   ]
  },
  {
   "cell_type": "code",
   "execution_count": 18,
   "id": "5e753167-8d70-4623-b492-2311ac87cf0f",
   "metadata": {},
   "outputs": [
    {
     "data": {
      "text/html": [
       "<div>\n",
       "<style scoped>\n",
       "    .dataframe tbody tr th:only-of-type {\n",
       "        vertical-align: middle;\n",
       "    }\n",
       "\n",
       "    .dataframe tbody tr th {\n",
       "        vertical-align: top;\n",
       "    }\n",
       "\n",
       "    .dataframe thead th {\n",
       "        text-align: right;\n",
       "    }\n",
       "</style>\n",
       "<table border=\"1\" class=\"dataframe\">\n",
       "  <thead>\n",
       "    <tr style=\"text-align: right;\">\n",
       "      <th></th>\n",
       "      <th>feature</th>\n",
       "      <th>auc</th>\n",
       "      <th>inverted</th>\n",
       "    </tr>\n",
       "  </thead>\n",
       "  <tbody>\n",
       "    <tr>\n",
       "      <th>0</th>\n",
       "      <td>number_of_courses_viewed</td>\n",
       "      <td>0.763568</td>\n",
       "      <td>False</td>\n",
       "    </tr>\n",
       "    <tr>\n",
       "      <th>1</th>\n",
       "      <td>interaction_count</td>\n",
       "      <td>0.738270</td>\n",
       "      <td>False</td>\n",
       "    </tr>\n",
       "    <tr>\n",
       "      <th>2</th>\n",
       "      <td>lead_score</td>\n",
       "      <td>0.614499</td>\n",
       "      <td>False</td>\n",
       "    </tr>\n",
       "    <tr>\n",
       "      <th>3</th>\n",
       "      <td>annual_income</td>\n",
       "      <td>0.551958</td>\n",
       "      <td>False</td>\n",
       "    </tr>\n",
       "  </tbody>\n",
       "</table>\n",
       "</div>"
      ],
      "text/plain": [
       "                    feature       auc  inverted\n",
       "0  number_of_courses_viewed  0.763568     False\n",
       "1         interaction_count  0.738270     False\n",
       "2                lead_score  0.614499     False\n",
       "3             annual_income  0.551958     False"
      ]
     },
     "execution_count": 18,
     "metadata": {},
     "output_type": "execute_result"
    }
   ],
   "source": [
    "# Compute per-feature AUCs on the training set only\n",
    "\n",
    "records = []\n",
    "for col in numeric_features:\n",
    "    scores = df_train[col].values\n",
    "    auc, inverted = auc_with_possible_inversion(scores, y_train)\n",
    "    records.append({\n",
    "        'feature': col,\n",
    "        'auc': auc,\n",
    "        'inverted': inverted,\n",
    "    })\n",
    "\n",
    "results_df = pd.DataFrame(records).sort_values('auc', ascending=False).reset_index(drop=True)\n",
    "results_df"
   ]
  },
  {
   "cell_type": "markdown",
   "id": "cb8030c9-74e2-42b2-b249-2f7989994eca",
   "metadata": {},
   "source": [
    "# Question 2"
   ]
  },
  {
   "cell_type": "code",
   "execution_count": 19,
   "id": "978e5cec-8c9f-4a1b-b7be-189dace281b9",
   "metadata": {},
   "outputs": [
    {
     "data": {
      "text/plain": [
       "['lead_source', 'industry', 'employment_status', 'location']"
      ]
     },
     "execution_count": 19,
     "metadata": {},
     "output_type": "execute_result"
    }
   ],
   "source": [
    "categorical_columns"
   ]
  },
  {
   "cell_type": "code",
   "execution_count": 20,
   "id": "b4ca3b2a-5cad-48f7-8ca1-7b4057c900cd",
   "metadata": {},
   "outputs": [
    {
     "data": {
      "text/plain": [
       "['lead_score',\n",
       " 'number_of_courses_viewed',\n",
       " 'interaction_count',\n",
       " 'annual_income']"
      ]
     },
     "execution_count": 20,
     "metadata": {},
     "output_type": "execute_result"
    }
   ],
   "source": [
    "numeric_features"
   ]
  },
  {
   "cell_type": "code",
   "execution_count": 21,
   "id": "1da2687f-f31b-4fe7-a4f0-afc7dbfbdd9d",
   "metadata": {},
   "outputs": [],
   "source": [
    "dv = DictVectorizer(sparse=False)\n",
    "\n",
    "train_dict = df_train[categorical_columns + numeric_features].to_dict(orient='records')\n",
    "val_dict = df_val[categorical_columns + numeric_features].to_dict(orient='records')\n",
    "\n",
    "X_train = dv.fit_transform(train_dict)\n",
    "X_val   = dv.transform(val_dict)"
   ]
  },
  {
   "cell_type": "code",
   "execution_count": 22,
   "id": "9d9b3906-1fe0-4dcc-a230-7ac9bea83185",
   "metadata": {},
   "outputs": [
    {
     "name": "stdout",
     "output_type": "stream",
     "text": [
      "AUC: 0.8171316268814112\n",
      "AUC (rounded to 3 d.p.): 0.82\n"
     ]
    }
   ],
   "source": [
    "model = LogisticRegression(solver='liblinear', C=1.0, max_iter=1000)\n",
    "model.fit(X_train, y_train)\n",
    "\n",
    "y_pred = model.predict_proba(X_val)[:, 1]\n",
    "auc = roc_auc_score(y_val, y_pred)\n",
    "\n",
    "print('AUC:', auc)\n",
    "print('AUC (rounded to 3 d.p.):', round(auc, 2))"
   ]
  },
  {
   "cell_type": "markdown",
   "id": "a286629b-4eeb-4ddc-828b-aed4177be6fc",
   "metadata": {},
   "source": [
    "# Question 3"
   ]
  },
  {
   "cell_type": "code",
   "execution_count": 44,
   "id": "17af119a-1619-40d9-aa9c-49be73e713ee",
   "metadata": {},
   "outputs": [],
   "source": [
    "thresholds = np.linspace(0, 1, 21)\n",
    "precisions = []\n",
    "recalls = []\n",
    "\n",
    "for t in thresholds:\n",
    "    y_hat = (y_pred >= t).astype(int)\n",
    "\n",
    "    TP = np.sum((y_hat == 1) & (y_true == 1))\n",
    "    FP = np.sum((y_hat == 1) & (y_true == 0))\n",
    "    FN = np.sum((y_hat == 0) & (y_true == 1))\n",
    "\n",
    "    prec = TP / (TP + FP) if (TP + FP) > 0 else 0.0\n",
    "    rec  = TP / (TP + FN) if (TP + FN) > 0 else 0.0\n",
    "\n",
    "    precisions.append(prec)\n",
    "    recalls.append(rec)"
   ]
  },
  {
   "cell_type": "code",
   "execution_count": 57,
   "id": "c902ae70-059c-483f-b6f6-d1f22419a631",
   "metadata": {},
   "outputs": [
    {
     "name": "stdout",
     "output_type": "stream",
     "text": [
      "Threshold intersection: 0.65\n"
     ]
    }
   ],
   "source": [
    "precisions = np.array(precisions)\n",
    "recalls    = np.array(recalls)\n",
    "\n",
    "\n",
    "diff = np.abs(precisions - recalls).copy()\n",
    "degenerate = (precisions == 0) & (recalls == 0)\n",
    "diff[degenerate] = np.inf  # exclude these\n",
    "\n",
    "idx = int(np.argmin(diff))\n",
    "t_intersect = float(thresholds[idx])\n",
    "\n",
    "print(\"Threshold intersection:\", round(t_intersect, 3))"
   ]
  },
  {
   "cell_type": "code",
   "execution_count": 59,
   "id": "959bbd08-e951-4e6a-8dd0-04e449a58f1e",
   "metadata": {},
   "outputs": [
    {
     "data": {
      "image/png": "[encoded data removed]",
      "text/plain": [
       "<Figure size 600x400 with 1 Axes>"
      ]
     },
     "metadata": {},
     "output_type": "display_data"
    },
    {
     "name": "stdout",
     "output_type": "stream",
     "text": [
      "Threshold intersection: 0.65\n"
     ]
    }
   ],
   "source": [
    "# Plot\n",
    "\n",
    "plt.figure(figsize=(6,4))\n",
    "plt.plot(thresholds, precisions, label='precision')\n",
    "plt.plot(thresholds, recalls, label='recall')\n",
    "plt.xlabel('threshold')\n",
    "plt.ylabel('score')\n",
    "plt.legend()\n",
    "plt.title('Precision / Recall vs Threshold (validation)')\n",
    "plt.show()\n",
    "\n",
    "print(\"Threshold intersection:\", round(t_intersect, 3))"
   ]
  },
  {
   "cell_type": "markdown",
   "id": "f8bc4a10-151c-43dc-9cb3-6e3cbe88b7b2",
   "metadata": {},
   "source": [
    "# Question 4"
   ]
  },
  {
   "cell_type": "code",
   "execution_count": 63,
   "id": "4e3c14a1-70b0-4030-83a2-8affc008e317",
   "metadata": {},
   "outputs": [],
   "source": [
    "y_true = y_val.astype(int)\n",
    "\n",
    "# don't divide by zero\n",
    "def safe_precision(TP, FP):\n",
    "    denom = TP + FP\n",
    "    return (TP / denom) if denom > 0 else 0.0\n",
    "\n",
    "def safe_recall(TP, FN):\n",
    "    denom = TP + FN\n",
    "    return (TP / denom) if denom > 0 else 0.0\n",
    "\n",
    "def safe_f1(p, r):\n",
    "    denom = p + r\n",
    "    return (2 * p * r / denom) if denom > 0 else 0.0"
   ]
  },
  {
   "cell_type": "code",
   "execution_count": 64,
   "id": "f043cc75-1e95-4946-9ced-6e8aa54113b5",
   "metadata": {},
   "outputs": [
    {
     "name": "stdout",
     "output_type": "stream",
     "text": [
      "Q4 — Threshold with maximal F1: 0.57\n",
      "Q4 — Max F1: 0.812\n"
     ]
    }
   ],
   "source": [
    "thresholds = np.linspace(0, 1, 101)\n",
    "f1s = []\n",
    "\n",
    "for t in thresholds:\n",
    "    y_hat = (y_pred >= t).astype(int)\n",
    "\n",
    "    TP = np.sum((y_hat == 1) & (y_true == 1))\n",
    "    FP = np.sum((y_hat == 1) & (y_true == 0))\n",
    "    FN = np.sum((y_hat == 0) & (y_true == 1))\n",
    "\n",
    "    p = safe_precision(TP, FP)\n",
    "    r = safe_recall(TP, FN)\n",
    "    f1s.append(safe_f1(p, r))\n",
    "\n",
    "f1s = np.array(f1s)\n",
    "imax = int(np.argmax(f1s))\n",
    "t_f1_max = float(thresholds[imax])"
   ]
  },
  {
   "cell_type": "code",
   "execution_count": 68,
   "id": "be22e4e1-6882-46b6-960d-eea80c5cc240",
   "metadata": {},
   "outputs": [
    {
     "data": {
      "image/png": "[encoded data removed]",
      "text/plain": [
       "<Figure size 600x400 with 1 Axes>"
      ]
     },
     "metadata": {},
     "output_type": "display_data"
    },
    {
     "name": "stdout",
     "output_type": "stream",
     "text": [
      "Q4 — Threshold with maximal F1: 0.57\n",
      "Q4 — Max F1: 0.812\n"
     ]
    }
   ],
   "source": [
    "# Plot F1 vs threshold (plain matplotlib per lessons)\n",
    "plt.figure(figsize=(6,4))\n",
    "plt.plot(thresholds, f1s, label='F1')\n",
    "plt.xlabel('threshold')\n",
    "plt.ylabel('F1')\n",
    "plt.title('F1 vs Threshold')\n",
    "plt.legend()\n",
    "plt.show()\n",
    "\n",
    "print(\"Q4 — Threshold with maximal F1:\", round(t_f1_max, 3))\n",
    "print(\"Q4 — Max F1:\", round(float(f1s[imax]), 3))"
   ]
  },
  {
   "cell_type": "markdown",
   "id": "219c6e34-8a7f-48b0-93c4-a6e2d92a6b37",
   "metadata": {},
   "source": [
    "# Question 5"
   ]
  },
  {
   "cell_type": "code",
   "execution_count": 70,
   "id": "516b217a-1b3e-48f3-bc1e-08dde8e4cba3",
   "metadata": {},
   "outputs": [],
   "source": [
    "def train_on_fold(df_train_fold, y_train_fold, C=1.0):\n",
    "    dv = DictVectorizer(sparse=False)\n",
    "    train_dict = df_train_fold[cols_used].to_dict(orient='records')\n",
    "    X_train_fold = dv.fit_transform(train_dict)\n",
    "\n",
    "    model = LogisticRegression(solver='liblinear', C=C, max_iter=1000)\n",
    "    model.fit(X_train_fold, y_train_fold)\n",
    "    return dv, model"
   ]
  },
  {
   "cell_type": "code",
   "execution_count": 73,
   "id": "d25bbffc-84e1-411a-b804-4c114f17cb46",
   "metadata": {},
   "outputs": [
    {
     "name": "stdout",
     "output_type": "stream",
     "text": [
      "Scores: [np.float64(0.806), np.float64(0.871), np.float64(0.775), np.float64(0.802), np.float64(0.856)]\n",
      "Mean: 0.822\n",
      "Std of AUC: 0.036\n"
     ]
    }
   ],
   "source": [
    "kf = KFold(n_splits=5, shuffle=True, random_state=1)\n",
    "\n",
    "scores = []\n",
    "\n",
    "for train_idx, val_idx in kf.split(X_full):\n",
    "    df_tr = X_full.iloc[train_idx].reset_index(drop=True)\n",
    "    df_va = X_full.iloc[val_idx].reset_index(drop=True)\n",
    "    y_tr  = y_full[train_idx]\n",
    "    y_va  = y_full[val_idx]\n",
    "\n",
    "    dv_fold, model_fold = train_on_fold(df_tr, y_tr, C=1.0)\n",
    "\n",
    "    val_dict = df_va[cols_used].to_dict(orient='records')\n",
    "    X_va = dv_fold.transform(val_dict)\n",
    "    y_pred_va = model_fold.predict_proba(X_va)[:, 1]\n",
    "\n",
    "    auc = roc_auc_score(y_va, y_pred_va)\n",
    "    scores.append(auc)\n",
    "\n",
    "scores = np.array(scores)\n",
    "print(\"Scores:\", [round(s, 3) for s in scores])\n",
    "print(\"Mean:\", round(scores.mean(), 3))\n",
    "print(\"Std of AUC:\", round(scores.std(), 3))\n"
   ]
  },
  {
   "cell_type": "markdown",
   "id": "0640c7f7-591d-43b5-afb2-fe96072ca9f4",
   "metadata": {},
   "source": [
    "# Question 6"
   ]
  },
  {
   "cell_type": "code",
   "execution_count": 76,
   "id": "28eef059-2ebf-4858-b5c7-526b29c20abf",
   "metadata": {},
   "outputs": [],
   "source": [
    "# Q6: Grid over C values with 5-Fold CV; report mean and std (rounded to 3 d.p.), pick best C\n",
    "\n",
    "Cs = [0.000001, 0.001, 1]\n",
    "kf = KFold(n_splits=5, shuffle=True, random_state=1)\n",
    "\n",
    "def cv_auc_for_C(C_value):\n",
    "    fold_scores = []\n",
    "    for train_idx, val_idx in kf.split(X_full):\n",
    "        df_tr = X_full.iloc[train_idx].reset_index(drop=True)\n",
    "        df_va = X_full.iloc[val_idx].reset_index(drop=True)\n",
    "        y_tr  = y_full[train_idx]\n",
    "        y_va  = y_full[val_idx]\n",
    "\n",
    "        # fold-specific dv and model (lesson methodology)\n",
    "        dv_fold = DictVectorizer(sparse=False)\n",
    "        X_tr = dv_fold.fit_transform(df_tr[cols_used].to_dict(orient='records'))\n",
    "        X_va = dv_fold.transform(df_va[cols_used].to_dict(orient='records'))\n",
    "\n",
    "        model = LogisticRegression(solver='liblinear', C=C_value, max_iter=1000)\n",
    "        model.fit(X_tr, y_tr)\n",
    "\n",
    "        y_pred_va = model.predict_proba(X_va)[:, 1]\n",
    "        auc = roc_auc_score(y_va, y_pred_va)\n",
    "        fold_scores.append(auc)\n",
    "\n",
    "    fold_scores = np.array(fold_scores)\n",
    "    return round(fold_scores.mean(), 3), round(fold_scores.std(), 3)"
   ]
  },
  {
   "cell_type": "code",
   "execution_count": 86,
   "id": "edf37b65-48e6-4793-b798-91b5ca7783ee",
   "metadata": {},
   "outputs": [
    {
     "name": "stdout",
     "output_type": "stream",
     "text": [
      "C=1e-06: mean AUC=0.56, std=0.024\n",
      "C=0.001: mean AUC=0.867, std=0.029\n",
      "C=1: mean AUC=0.822, std=0.036\n"
     ]
    }
   ],
   "source": [
    "for C in Cs:\n",
    "    mean_auc, std_auc = cv_auc_for_C(C)\n",
    "    print(f\"C={C}: mean AUC={mean_auc}, std={std_auc}\")"
   ]
  },
  {
   "cell_type": "code",
   "execution_count": null,
   "id": "b33d0e28-e467-41c1-bee1-2f8f804c8a5e",
   "metadata": {},
   "outputs": [],
   "source": []
  },
  {
   "cell_type": "code",
   "execution_count": null,
   "id": "bce160a3-d07b-49f6-81d8-83981ab16847",
   "metadata": {},
   "outputs": [],
   "source": []
  }
 ],
 "metadata": {
  "kernelspec": {
   "display_name": "Python 3 (ipykernel)",
   "language": "python",
   "name": "python3"
  },
  "language_info": {
   "codemirror_mode": {
    "name": "ipython",
    "version": 3
   },
   "file_extension": ".py",
   "mimetype": "text/x-python",
   "name": "python",
   "nbconvert_exporter": "python",
   "pygments_lexer": "ipython3",
   "version": "3.12.1"
  }
 },
 "nbformat": 4,
 "nbformat_minor": 5
}
