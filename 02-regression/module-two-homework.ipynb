{
 "cells": [
  {
   "cell_type": "code",
   "execution_count": 40,
   "id": "522ed8a9-1781-4982-83bc-eab00a9dc5bd",
   "metadata": {},
   "outputs": [],
   "source": [
    "import pandas as pd\n",
    "import numpy as np\n",
    "\n",
    "import seaborn as sns\n",
    "from matplotlib import pyplot as plt\n",
    "%matplotlib inline"
   ]
  },
  {
   "cell_type": "code",
   "execution_count": 3,
   "id": "074aade9-8ed5-4790-b6b2-8955d7ba0987",
   "metadata": {},
   "outputs": [
    {
     "name": "stdout",
     "output_type": "stream",
     "text": [
      "--2025-10-08 22:06:42--  https://raw.githubusercontent.com/alexeygrigorev/datasets/master/car_fuel_efficiency.csv\n",
      "Resolving raw.githubusercontent.com (raw.githubusercontent.com)... 185.199.108.133, 185.199.109.133, 185.199.110.133, ...\n",
      "Connecting to raw.githubusercontent.com (raw.githubusercontent.com)|185.199.108.133|:443... connected.\n",
      "HTTP request sent, awaiting response... 200 OK\n",
      "Length: 874188 (854K) [text/plain]\n",
      "Saving to: ‘car_fuel_efficiency.csv’\n",
      "\n",
      "car_fuel_efficiency 100%[===================>] 853.70K  --.-KB/s    in 0.02s   \n",
      "\n",
      "2025-10-08 22:06:42 (39.5 MB/s) - ‘car_fuel_efficiency.csv’ saved [874188/874188]\n",
      "\n"
     ]
    }
   ],
   "source": [
    "!wget https://raw.githubusercontent.com/alexeygrigorev/datasets/master/car_fuel_efficiency.csv"
   ]
  },
  {
   "cell_type": "code",
   "execution_count": 100,
   "id": "66601f7d-db89-473a-97b3-7b93d2615d65",
   "metadata": {},
   "outputs": [],
   "source": [
    "# Prepared Functions\n",
    "def prepare_X(df):\n",
    "    df_num = df[base]\n",
    "    df_num = df_num.fillna(0)\n",
    "    X = df_num.values\n",
    "    return X\n",
    "\n",
    "def train_linear_regression(X, y):\n",
    "    ones = np.ones(X.shape[0])\n",
    "    X = np.column_stack([ones, X])\n",
    "\n",
    "    XTX = X.T.dot(X)\n",
    "    XTX_inv = np.linalg.inv(XTX)\n",
    "    w = XTX_inv.dot(X.T).dot(y)\n",
    "    \n",
    "    return w[0], w[1:]\n",
    "\n",
    "def train_linear_regression_reg(X, y, r=0.0):\n",
    "    ones = np.ones(X.shape[0])\n",
    "    X = np.column_stack([ones, X])\n",
    "\n",
    "    XTX = X.T.dot(X)\n",
    "    reg = r * np.eye(XTX.shape[0])\n",
    "    XTX = XTX + reg\n",
    "\n",
    "    XTX_inv = np.linalg.inv(XTX)\n",
    "    w = XTX_inv.dot(X.T).dot(y)\n",
    "    \n",
    "    return w[0], w[1:]\n",
    "\n",
    "def rmse(y, y_pred):\n",
    "    error = y_pred - y\n",
    "    mse = (error ** 2).mean()\n",
    "    return np.sqrt(mse)"
   ]
  },
  {
   "cell_type": "code",
   "execution_count": 42,
   "id": "5d4cabdb-b141-4865-be9a-6916d71bcff3",
   "metadata": {},
   "outputs": [
    {
     "data": {
      "text/plain": [
       "9704"
      ]
     },
     "execution_count": 42,
     "metadata": {},
     "output_type": "execute_result"
    }
   ],
   "source": [
    "# read the csv and make sure it's there\n",
    "df_full = pd.read_csv('car_fuel_efficiency.csv')\n",
    "len(df_full)"
   ]
  },
  {
   "cell_type": "code",
   "execution_count": 43,
   "id": "0961f484-0af5-4136-8fe9-bf7dbcb96cb1",
   "metadata": {},
   "outputs": [
    {
     "data": {
      "text/plain": [
       "(9704,\n",
       "    engine_displacement  horsepower  vehicle_weight  model_year  \\\n",
       " 0                  170       159.0     3413.433759        2003   \n",
       " 1                  130        97.0     3149.664934        2007   \n",
       " 2                  170        78.0     3079.038997        2018   \n",
       " 3                  220         NaN     2542.392402        2009   \n",
       " 4                  210       140.0     3460.870990        2009   \n",
       " \n",
       "    fuel_efficiency_mpg  \n",
       " 0            13.231729  \n",
       " 1            13.688217  \n",
       " 2            14.246341  \n",
       " 3            16.912736  \n",
       " 4            12.488369  )"
      ]
     },
     "execution_count": 43,
     "metadata": {},
     "output_type": "execute_result"
    }
   ],
   "source": [
    "# select on the needed feature columns for df\n",
    "base = ['engine_displacement','horsepower','vehicle_weight','model_year', 'fuel_efficiency_mpg']\n",
    "df = df_full[keep_cols].copy()\n",
    "len(df), df.head()"
   ]
  },
  {
   "cell_type": "markdown",
   "id": "9cbd4f1c-d2ad-490a-8867-adb0e7dfca5b",
   "metadata": {},
   "source": [
    "# Question 1"
   ]
  },
  {
   "cell_type": "code",
   "execution_count": 44,
   "id": "cf19a531-d7b3-409c-97cc-35c20ac50b08",
   "metadata": {},
   "outputs": [
    {
     "data": {
      "text/plain": [
       "engine_displacement      0\n",
       "horsepower             708\n",
       "vehicle_weight           0\n",
       "model_year               0\n",
       "fuel_efficiency_mpg      0\n",
       "dtype: int64"
      ]
     },
     "execution_count": 44,
     "metadata": {},
     "output_type": "execute_result"
    }
   ],
   "source": [
    "na_counts = df.isna().sum()\n",
    "na_counts"
   ]
  },
  {
   "cell_type": "markdown",
   "id": "0e2cab4a-1225-49d9-bf67-2d464623a7da",
   "metadata": {},
   "source": [
    "# Question 2"
   ]
  },
  {
   "cell_type": "code",
   "execution_count": 111,
   "id": "ba37b53c-cce0-4864-bbcc-48e923660de6",
   "metadata": {},
   "outputs": [
    {
     "data": {
      "text/plain": [
       "149.0"
      ]
     },
     "execution_count": 111,
     "metadata": {},
     "output_type": "execute_result"
    }
   ],
   "source": [
    "hp_median = df['horsepower'].median()\n",
    "float(hp_median)"
   ]
  },
  {
   "cell_type": "code",
   "execution_count": 95,
   "id": "d881bf57-ce13-4b64-8044-313164c5b738",
   "metadata": {},
   "outputs": [
    {
     "data": {
      "text/plain": [
       "(9704, 1940, 1940, 5824)"
      ]
     },
     "execution_count": 95,
     "metadata": {},
     "output_type": "execute_result"
    }
   ],
   "source": [
    "n = len(df)\n",
    "\n",
    "n_val = int(n * 0.2)\n",
    "n_test = int(n * 0.2)\n",
    "n_train = n - n_val - n_test\n",
    "\n",
    "n, n_val, n_test, n_train"
   ]
  },
  {
   "cell_type": "code",
   "execution_count": 96,
   "id": "756dc595-59d9-4646-a767-9567abd3f846",
   "metadata": {},
   "outputs": [],
   "source": [
    "df_train = df.iloc[:n_train]\n",
    "df_val = df.iloc[n_train:n_train+n_val]\n",
    "df_test = df.iloc[n_train+n_val:]"
   ]
  },
  {
   "cell_type": "code",
   "execution_count": 97,
   "id": "7317b42f-f674-4763-9af6-828dc948fb96",
   "metadata": {},
   "outputs": [],
   "source": [
    "idx = np.arange(n)"
   ]
  },
  {
   "cell_type": "code",
   "execution_count": 98,
   "id": "17076584-c6d4-43bf-afa0-01d3fa65a881",
   "metadata": {},
   "outputs": [],
   "source": [
    "np.random.seed(42)\n",
    "np.random.shuffle(idx)"
   ]
  },
  {
   "cell_type": "code",
   "execution_count": 99,
   "id": "3dd05ea9-feac-4c93-811a-ee17e5e78e76",
   "metadata": {},
   "outputs": [
    {
     "data": {
      "text/html": [
       "<div>\n",
       "<style scoped>\n",
       "    .dataframe tbody tr th:only-of-type {\n",
       "        vertical-align: middle;\n",
       "    }\n",
       "\n",
       "    .dataframe tbody tr th {\n",
       "        vertical-align: top;\n",
       "    }\n",
       "\n",
       "    .dataframe thead th {\n",
       "        text-align: right;\n",
       "    }\n",
       "</style>\n",
       "<table border=\"1\" class=\"dataframe\">\n",
       "  <thead>\n",
       "    <tr style=\"text-align: right;\">\n",
       "      <th></th>\n",
       "      <th>engine_displacement</th>\n",
       "      <th>horsepower</th>\n",
       "      <th>vehicle_weight</th>\n",
       "      <th>model_year</th>\n",
       "      <th>fuel_efficiency_mpg</th>\n",
       "    </tr>\n",
       "  </thead>\n",
       "  <tbody>\n",
       "    <tr>\n",
       "      <th>483</th>\n",
       "      <td>220</td>\n",
       "      <td>144.0</td>\n",
       "      <td>2535.887591</td>\n",
       "      <td>2009</td>\n",
       "      <td>16.642943</td>\n",
       "    </tr>\n",
       "    <tr>\n",
       "      <th>7506</th>\n",
       "      <td>160</td>\n",
       "      <td>141.0</td>\n",
       "      <td>2741.170484</td>\n",
       "      <td>2019</td>\n",
       "      <td>16.298377</td>\n",
       "    </tr>\n",
       "    <tr>\n",
       "      <th>8795</th>\n",
       "      <td>230</td>\n",
       "      <td>155.0</td>\n",
       "      <td>2471.880237</td>\n",
       "      <td>2017</td>\n",
       "      <td>18.591822</td>\n",
       "    </tr>\n",
       "    <tr>\n",
       "      <th>1688</th>\n",
       "      <td>150</td>\n",
       "      <td>206.0</td>\n",
       "      <td>3748.164469</td>\n",
       "      <td>2015</td>\n",
       "      <td>11.818843</td>\n",
       "    </tr>\n",
       "    <tr>\n",
       "      <th>6217</th>\n",
       "      <td>300</td>\n",
       "      <td>111.0</td>\n",
       "      <td>2135.716359</td>\n",
       "      <td>2006</td>\n",
       "      <td>19.402209</td>\n",
       "    </tr>\n",
       "  </tbody>\n",
       "</table>\n",
       "</div>"
      ],
      "text/plain": [
       "      engine_displacement  horsepower  vehicle_weight  model_year  \\\n",
       "483                   220       144.0     2535.887591        2009   \n",
       "7506                  160       141.0     2741.170484        2019   \n",
       "8795                  230       155.0     2471.880237        2017   \n",
       "1688                  150       206.0     3748.164469        2015   \n",
       "6217                  300       111.0     2135.716359        2006   \n",
       "\n",
       "      fuel_efficiency_mpg  \n",
       "483             16.642943  \n",
       "7506            16.298377  \n",
       "8795            18.591822  \n",
       "1688            11.818843  \n",
       "6217            19.402209  "
      ]
     },
     "execution_count": 99,
     "metadata": {},
     "output_type": "execute_result"
    }
   ],
   "source": [
    "df_train = df.iloc[idx[:n_train]]\n",
    "df_val = df.iloc[idx[n_train:n_train+n_val]]\n",
    "df_test = df.iloc[idx[n_train+n_val:]]\n",
    "\n",
    "# should be shuffled if index is random looking\n",
    "df_train.head()"
   ]
  },
  {
   "cell_type": "markdown",
   "id": "0d902506-756c-482e-9fba-60168205b37c",
   "metadata": {},
   "source": [
    "# Question 3"
   ]
  },
  {
   "cell_type": "code",
   "execution_count": 71,
   "id": "d5ac1b17-a145-4538-bee9-126b7aaa4ae0",
   "metadata": {},
   "outputs": [
    {
     "data": {
      "text/plain": [
       "np.float64(1.1802679318480694e-10)"
      ]
     },
     "execution_count": 71,
     "metadata": {},
     "output_type": "execute_result"
    }
   ],
   "source": [
    "# Prepare y vectors\n",
    "y_train = df_train['fuel_efficiency_mpg'].values\n",
    "y_val = df_val['fuel_efficiency_mpg'].values\n",
    "\n",
    "# Option 1: fill with 0 see prepare_X() func\n",
    "X_train_zero = prepare_X(df_train)\n",
    "X_val_zero = prepare_X(df_val)\n",
    "w0, w = train_linear_regression(X_train_zero, y_train)\n",
    "y_pred = w0 + X_val_zero.dot(w)\n",
    "rmse_zero = rmse(y_val, y_pred)\n",
    "\n",
    "rmse_zero"
   ]
  },
  {
   "cell_type": "code",
   "execution_count": 91,
   "id": "678b0bd7-0d6f-4dff-9a37-f72806690ccb",
   "metadata": {},
   "outputs": [
    {
     "data": {
      "text/plain": [
       "'With zero: 1.1802679318480694e-10. With mean: 2.9358598219804703e-10'"
      ]
     },
     "execution_count": 91,
     "metadata": {},
     "output_type": "execute_result"
    }
   ],
   "source": [
    "# Option 2: fill with mean \n",
    "train_mean = df_train[na_feature].mean()\n",
    "df_train_mean = df_train.copy()\n",
    "df_val_mean = df_val.copy()\n",
    "df_train_mean['horsepower'] = df_train_mean['horsepower'].fillna(train_mean)\n",
    "df_val_mean['horsepower'] = df_val_mean['horsepower'].fillna(train_mean)\n",
    "\n",
    "X_train_mean = prepare_X(df_train_mean)\n",
    "X_val_mean = prepare_X(df_val_mean)\n",
    "w0, w = train_linear_regression(X_train_mean, y_train)\n",
    "y_pred = w0 + X_val_mean.dot(w)\n",
    "rmse_mean = rmse(y_val, y_pred)\n",
    "\n",
    "f'With zero: {rmse_zero}. With mean: {rmse_mean}'\n",
    "\n"
   ]
  },
  {
   "cell_type": "markdown",
   "id": "2add6ff5-f43a-4a30-9403-b35bca2ed696",
   "metadata": {},
   "source": [
    "# Question 4"
   ]
  },
  {
   "cell_type": "code",
   "execution_count": 101,
   "id": "1c947e31-5359-4f59-ac39-babf99140619",
   "metadata": {},
   "outputs": [
    {
     "data": {
      "text/plain": [
       "{0: np.float64(1.1802679318480694e-10),\n",
       " 0.01: np.float64(3.2654405592349402e-06),\n",
       " 0.1: np.float64(3.224279380323949e-05),\n",
       " 1: np.float64(0.00032091893538337645),\n",
       " 5: np.float64(0.00160020032296472),\n",
       " 10: np.float64(0.0031905329326770053),\n",
       " 100: np.float64(0.030243772204872323)}"
      ]
     },
     "execution_count": 101,
     "metadata": {},
     "output_type": "execute_result"
    }
   ],
   "source": [
    "r_list = [0, 0.01, 0.1, 1, 5, 10, 100]\n",
    "scores = {}\n",
    "for r in r_list:\n",
    "    w0, w = train_linear_regression_reg(X_train_zero, y_train, r=r)\n",
    "    y_pred = w0 + X_val_zero.dot(w)\n",
    "    scores[r] = rmse(y_val, y_pred)\n",
    "\n",
    "scores"
   ]
  },
  {
   "cell_type": "markdown",
   "id": "6175c442-ebec-4912-9cb6-3d69689de5b1",
   "metadata": {},
   "source": [
    "# Question 5"
   ]
  },
  {
   "cell_type": "code",
   "execution_count": 112,
   "id": "015aa8c0-8c39-4480-8f49-1680980ffb5b",
   "metadata": {},
   "outputs": [
    {
     "data": {
      "text/plain": [
       "1.5258467355687043e-10"
      ]
     },
     "execution_count": 112,
     "metadata": {},
     "output_type": "execute_result"
    }
   ],
   "source": [
    "vals = [] \n",
    "for s in range(10):\n",
    "    d = df.sample(frac=1.0, random_state=s) \n",
    "    n = len(d) \n",
    "    n_tr = int(0.6 * n) \n",
    "    n_va = int(0.2 * n) \n",
    "    d_tr = d.iloc[:n_tr].copy() \n",
    "    d_va = d.iloc[n_tr:n_tr+n_va].copy() \n",
    "    y_tr = d_tr['fuel_efficiency_mpg'].values \n",
    "    y_va = d_va['fuel_efficiency_mpg'].values \n",
    "    X_tr = prepare_X(d_tr) \n",
    "    X_va = prepare_X(d_va) \n",
    "    w0, w = train_linear_regression(X_tr, y_tr) \n",
    "    y_p = w0 + X_va.dot(w) \n",
    "    vals.append(rmse(y_va, y_p)) \n",
    "\n",
    "float(np.std(vals))"
   ]
  },
  {
   "cell_type": "markdown",
   "id": "d60e9bd6-6053-4d62-8c7f-a6804fa529c6",
   "metadata": {},
   "source": [
    "# Question 6"
   ]
  },
  {
   "cell_type": "code",
   "execution_count": 110,
   "id": "b85b7a41-cb61-4a61-9b77-b1db97270869",
   "metadata": {},
   "outputs": [
    {
     "data": {
      "text/plain": [
       "2.457409262341462e-07"
      ]
     },
     "execution_count": 110,
     "metadata": {},
     "output_type": "execute_result"
    }
   ],
   "source": [
    "d = df.sample(frac=1.0, random_state=9)\n",
    "n = len(d)\n",
    "n_tr = int(0.6 * n)\n",
    "n_va = int(0.2 * n)\n",
    "d_tr = d.iloc[:n_tr].copy()\n",
    "d_va = d.iloc[n_tr:n_tr+n_va].copy()\n",
    "d_te = d.iloc[n_tr+n_va:].copy()\n",
    "\n",
    "d_trval = pd.concat([d_tr, d_va], ignore_index=True)\n",
    "y_trval = d_trval['fuel_efficiency_mpg'].values\n",
    "y_te = d_te['fuel_efficiency_mpg'].values\n",
    "X_trval = prepare_X(d_trval)\n",
    "X_te = prepare_X(d_te)\n",
    "w0, w = train_linear_regression_reg(X_trval, y_trval, r=0.001)\n",
    "y_pred_te = w0 + X_te.dot(w)\n",
    "\n",
    "float(rmse(y_te, y_pred_te))"
   ]
  },
  {
   "cell_type": "code",
   "execution_count": null,
   "id": "d287c6cf-1250-43f8-a757-93a303611222",
   "metadata": {},
   "outputs": [],
   "source": []
  },
  {
   "cell_type": "code",
   "execution_count": null,
   "id": "b38e9364-9f24-4c8a-8374-5790306de444",
   "metadata": {},
   "outputs": [],
   "source": []
  }
 ],
 "metadata": {
  "kernelspec": {
   "display_name": "Python 3 (ipykernel)",
   "language": "python",
   "name": "python3"
  },
  "language_info": {
   "codemirror_mode": {
    "name": "ipython",
    "version": 3
   },
   "file_extension": ".py",
   "mimetype": "text/x-python",
   "name": "python",
   "nbconvert_exporter": "python",
   "pygments_lexer": "ipython3",
   "version": "3.12.1"
  }
 },
 "nbformat": 4,
 "nbformat_minor": 5
}
