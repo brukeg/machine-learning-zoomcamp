{
 "cells": [
  {
   "cell_type": "code",
   "execution_count": 40,
   "id": "522ed8a9-1781-4982-83bc-eab00a9dc5bd",
   "metadata": {},
   "outputs": [],
   "source": [
    "import pandas as pd\n",
    "import numpy as np\n",
    "\n",
    "import seaborn as sns\n",
    "from matplotlib import pyplot as plt\n",
    "%matplotlib inline"
   ]
  },
  {
   "cell_type": "code",
   "execution_count": 3,
   "id": "074aade9-8ed5-4790-b6b2-8955d7ba0987",
   "metadata": {},
   "outputs": [
    {
     "name": "stdout",
     "output_type": "stream",
     "text": [
      "--2025-10-08 22:06:42--  https://raw.githubusercontent.com/alexeygrigorev/datasets/master/car_fuel_efficiency.csv\n",
      "Resolving raw.githubusercontent.com (raw.githubusercontent.com)... 185.199.108.133, 185.199.109.133, 185.199.110.133, ...\n",
      "Connecting to raw.githubusercontent.com (raw.githubusercontent.com)|185.199.108.133|:443... connected.\n",
      "HTTP request sent, awaiting response... 200 OK\n",
      "Length: 874188 (854K) [text/plain]\n",
      "Saving to: ‘car_fuel_efficiency.csv’\n",
      "\n",
      "car_fuel_efficiency 100%[===================>] 853.70K  --.-KB/s    in 0.02s   \n",
      "\n",
      "2025-10-08 22:06:42 (39.5 MB/s) - ‘car_fuel_efficiency.csv’ saved [874188/874188]\n",
      "\n"
     ]
    }
   ],
   "source": [
    "!wget https://raw.githubusercontent.com/alexeygrigorev/datasets/master/car_fuel_efficiency.csv"
   ]
  },
  {
   "cell_type": "code",
   "execution_count": 41,
   "id": "66601f7d-db89-473a-97b3-7b93d2615d65",
   "metadata": {},
   "outputs": [],
   "source": [
    "# Prepared Functions\n",
    "def prepare_X(df):\n",
    "    df_num = df[base]\n",
    "    df_num = df_num.fillna(0)\n",
    "    X = df_num.values\n",
    "    return X\n",
    "\n",
    "def train_linear_regression(X, y):\n",
    "    ones = np.ones(X.shape[0])\n",
    "    X = np.column_stack([ones, X])\n",
    "\n",
    "    XTX = X.T.dot(X)\n",
    "    XTX_inv = np.linalg.inv(XTX)\n",
    "    w = XTX_inv.dot(X.T).dot(y)\n",
    "    \n",
    "    return w[0], w[1:]\n",
    "\n",
    "def train_linear_regression_reg(X, y, r=0.0):\n",
    "    ones = np.ones(X.shape[0])\n",
    "    X = np.column_stack([ones, X])\n",
    "\n",
    "    XTX = X.T.dot(X)\n",
    "    reg = r * np.eye(XTX.shape[0])\n",
    "    XTX = XTX + reg\n",
    "\n",
    "    XTX_inv = np.linalg.inv(XTX)\n",
    "    w = XTX_inv.dot(X.T).dot(y)\n",
    "    \n",
    "    return w[0], w[1:]\n",
    "\n",
    "def rmse(y, y_pred):\n",
    "    error = y_pred - y\n",
    "    mse = (error ** 2).mean()\n",
    "    return np.sqrt(mse)"
   ]
  },
  {
   "cell_type": "code",
   "execution_count": 42,
   "id": "5d4cabdb-b141-4865-be9a-6916d71bcff3",
   "metadata": {},
   "outputs": [
    {
     "data": {
      "text/plain": [
       "9704"
      ]
     },
     "execution_count": 42,
     "metadata": {},
     "output_type": "execute_result"
    }
   ],
   "source": [
    "# read the csv and make sure it's there\n",
    "df_full = pd.read_csv('car_fuel_efficiency.csv')\n",
    "len(df_full)"
   ]
  },
  {
   "cell_type": "code",
   "execution_count": 43,
   "id": "0961f484-0af5-4136-8fe9-bf7dbcb96cb1",
   "metadata": {},
   "outputs": [
    {
     "data": {
      "text/plain": [
       "(9704,\n",
       "    engine_displacement  horsepower  vehicle_weight  model_year  \\\n",
       " 0                  170       159.0     3413.433759        2003   \n",
       " 1                  130        97.0     3149.664934        2007   \n",
       " 2                  170        78.0     3079.038997        2018   \n",
       " 3                  220         NaN     2542.392402        2009   \n",
       " 4                  210       140.0     3460.870990        2009   \n",
       " \n",
       "    fuel_efficiency_mpg  \n",
       " 0            13.231729  \n",
       " 1            13.688217  \n",
       " 2            14.246341  \n",
       " 3            16.912736  \n",
       " 4            12.488369  )"
      ]
     },
     "execution_count": 43,
     "metadata": {},
     "output_type": "execute_result"
    }
   ],
   "source": [
    "# select on the needed feature columns for df\n",
    "base = ['engine_displacement','horsepower','vehicle_weight','model_year', 'fuel_efficiency_mpg']\n",
    "df = df_full[keep_cols].copy()\n",
    "len(df), df.head()"
   ]
  },
  {
   "cell_type": "markdown",
   "id": "9cbd4f1c-d2ad-490a-8867-adb0e7dfca5b",
   "metadata": {},
   "source": [
    "# Question 1"
   ]
  },
  {
   "cell_type": "code",
   "execution_count": 44,
   "id": "cf19a531-d7b3-409c-97cc-35c20ac50b08",
   "metadata": {},
   "outputs": [
    {
     "data": {
      "text/plain": [
       "engine_displacement      0\n",
       "horsepower             708\n",
       "vehicle_weight           0\n",
       "model_year               0\n",
       "fuel_efficiency_mpg      0\n",
       "dtype: int64"
      ]
     },
     "execution_count": 44,
     "metadata": {},
     "output_type": "execute_result"
    }
   ],
   "source": [
    "na_counts = df.isna().sum()\n",
    "na_counts"
   ]
  },
  {
   "cell_type": "markdown",
   "id": "0e2cab4a-1225-49d9-bf67-2d464623a7da",
   "metadata": {},
   "source": [
    "# Question 2"
   ]
  },
  {
   "cell_type": "code",
   "execution_count": 25,
   "id": "ba37b53c-cce0-4864-bbcc-48e923660de6",
   "metadata": {},
   "outputs": [
    {
     "data": {
      "text/plain": [
       "np.float64(149.0)"
      ]
     },
     "execution_count": 25,
     "metadata": {},
     "output_type": "execute_result"
    }
   ],
   "source": [
    "df['horsepower'].median()"
   ]
  },
  {
   "cell_type": "markdown",
   "id": "0d902506-756c-482e-9fba-60168205b37c",
   "metadata": {},
   "source": [
    "# Question 3"
   ]
  },
  {
   "cell_type": "code",
   "execution_count": 26,
   "id": "79e38b32-2a01-41a4-ac06-cdeef0450eb6",
   "metadata": {},
   "outputs": [
    {
     "data": {
      "text/plain": [
       "(5822, 1940, 1942)"
      ]
     },
     "execution_count": 26,
     "metadata": {},
     "output_type": "execute_result"
    }
   ],
   "source": [
    "seed = 42\n",
    "df_shuffled = df.sample(frac=1.0, random_state=seed)\n",
    "n = len(df_shuffled)\n",
    "\n",
    "n_train = int(0.6 * n)\n",
    "n_val = int(0.2 * n)\n",
    "\n",
    "df_train = df_shuffled.iloc[:n_train].copy()\n",
    "df_val = df_shuffled.iloc[n_train:n_train+n_val].copy()\n",
    "df_test = df_shuffled.iloc[n_train+n_val:].copy()\n",
    "\n",
    "len(df_train), len(df_val), len(df_test)"
   ]
  },
  {
   "cell_type": "code",
   "execution_count": 29,
   "id": "d5ac1b17-a145-4538-bee9-126b7aaa4ae0",
   "metadata": {},
   "outputs": [
    {
     "data": {
      "text/plain": [
       "np.float64(2.1932345197329491e-10)"
      ]
     },
     "execution_count": 29,
     "metadata": {},
     "output_type": "execute_result"
    }
   ],
   "source": [
    "# Identify the feature with missing values\n",
    "na_feature = na_counts.idxmax()\n",
    "\n",
    "# Prepare y vectors\n",
    "y_train = df_train['fuel_efficiency_mpg'].values\n",
    "y_val = df_val['fuel_efficiency_mpg'].values\n",
    "\n",
    "# Option 1: fill with 0 \n",
    "X_train_zero = prepare_X(df_train)\n",
    "X_val_zero = prepare_X(df_val)\n",
    "w0_z, w_z = train_linear_regression(X_train_zero, y_train)\n",
    "y_pred_z = w0_z + X_val_zero.dot(w_z)\n",
    "rmse_zero = rmse(y_val, y_pred_z)\n",
    "rmse_zero"
   ]
  },
  {
   "cell_type": "code",
   "execution_count": 31,
   "id": "678b0bd7-0d6f-4dff-9a37-f72806690ccb",
   "metadata": {},
   "outputs": [
    {
     "data": {
      "text/plain": [
       "'With zero: 2.1932345197329491e-10. With mean: 5.073792192183386e-11'"
      ]
     },
     "execution_count": 31,
     "metadata": {},
     "output_type": "execute_result"
    }
   ],
   "source": [
    "# Option 2: fill with mean \n",
    "train_mean = df_train[na_feature].mean()\n",
    "df_train_mean = df_train.copy()\n",
    "df_val_mean = df_val.copy()\n",
    "df_train_mean[na_feature] = df_train_mean[na_feature].fillna(train_mean)\n",
    "df_val_mean[na_feature] = df_val_mean[na_feature].fillna(train_mean)\n",
    "\n",
    "X_train_mean = prepare_X(df_train_mean)\n",
    "X_val_mean = prepare_X(df_val_mean)\n",
    "w0_m, w_m = train_linear_regression(X_train_mean, y_train)\n",
    "y_pred_m = w0_m + X_val_mean.dot(w_m)\n",
    "rmse_mean = rmse(y_val, y_pred_m)\n",
    "f'With zero: {rmse_zero}. With mean: {rmse_mean}' "
   ]
  },
  {
   "cell_type": "markdown",
   "id": "2add6ff5-f43a-4a30-9403-b35bca2ed696",
   "metadata": {},
   "source": [
    "# Question 4"
   ]
  },
  {
   "cell_type": "code",
   "execution_count": 36,
   "id": "1c947e31-5359-4f59-ac39-babf99140619",
   "metadata": {},
   "outputs": [
    {
     "data": {
      "text/plain": [
       "{0: np.float64(2.1932345197329491e-10),\n",
       " 0.01: np.float64(3.2644013317314747e-06),\n",
       " 0.1: np.float64(3.2236575981105124e-05),\n",
       " 1: np.float64(0.0003208855341629006),\n",
       " 5: np.float64(0.001600053469139714),\n",
       " 10: np.float64(0.003190244640006075),\n",
       " 100: np.float64(0.03024096704220114)}"
      ]
     },
     "execution_count": 36,
     "metadata": {},
     "output_type": "execute_result"
    }
   ],
   "source": [
    "r_list = [0, 0.01, 0.1, 1, 5, 10, 100]\n",
    "scores = {}\n",
    "for r in r_list:\n",
    "    w0, w = train_linear_regression_reg(X_train_zero, y_train, r=r)\n",
    "    y_pred = w0 + X_val_zero.dot(w)\n",
    "    scores[r] = rmse(y_val, y_pred)\n",
    "scores"
   ]
  },
  {
   "cell_type": "markdown",
   "id": "6175c442-ebec-4912-9cb6-3d69689de5b1",
   "metadata": {},
   "source": [
    "# Question 5"
   ]
  },
  {
   "cell_type": "code",
   "execution_count": 55,
   "id": "015aa8c0-8c39-4480-8f49-1680980ffb5b",
   "metadata": {},
   "outputs": [
    {
     "data": {
      "text/plain": [
       "1.665296561747579e-10"
      ]
     },
     "execution_count": 55,
     "metadata": {},
     "output_type": "execute_result"
    }
   ],
   "source": [
    "vals = []\n",
    "for s in range(10):\n",
    "    d = df.sample(frac=1.0, random_state=s+42)\n",
    "    n = len(d)\n",
    "    n_tr = int(0.6 * n)\n",
    "    n_va = int(0.2 * n)\n",
    "    d_tr = d.iloc[:n_tr].copy()\n",
    "    d_va = d.iloc[n_tr:n_tr+n_va].copy()\n",
    "\n",
    "    y_tr = d_tr['fuel_efficiency_mpg'].values\n",
    "    y_va = d_va['fuel_efficiency_mpg'].values\n",
    "    X_tr = prepare_X(d_tr)\n",
    "    X_va = prepare_X(d_va)\n",
    "\n",
    "    w0, w = train_linear_regression(X_tr, y_tr)\n",
    "    y_p = w0 + X_va.dot(w)\n",
    "    vals.append(rmse(y_va, y_p))\n",
    "\n",
    "float(np.std(vals))"
   ]
  },
  {
   "cell_type": "markdown",
   "id": "d60e9bd6-6053-4d62-8c7f-a6804fa529c6",
   "metadata": {},
   "source": [
    "# Question 6"
   ]
  },
  {
   "cell_type": "code",
   "execution_count": 38,
   "id": "b85b7a41-cb61-4a61-9b77-b1db97270869",
   "metadata": {},
   "outputs": [
    {
     "data": {
      "text/plain": [
       "np.float64(2.457409262341462e-07)"
      ]
     },
     "execution_count": 38,
     "metadata": {},
     "output_type": "execute_result"
    }
   ],
   "source": [
    "d = df.sample(frac=1.0, random_state=9)\n",
    "n = len(d)\n",
    "n_tr = int(0.6 * n)\n",
    "n_va = int(0.2 * n)\n",
    "d_tr = d.iloc[:n_tr].copy()\n",
    "d_va = d.iloc[n_tr:n_tr+n_va].copy()\n",
    "d_te = d.iloc[n_tr+n_va:].copy()\n",
    "\n",
    "d_trval = pd.concat([d_tr, d_va], ignore_index=True)\n",
    "y_trval = d_trval['fuel_efficiency_mpg'].values\n",
    "y_te = d_te['fuel_efficiency_mpg'].values\n",
    "X_trval = prepare_X(d_trval)\n",
    "X_te = prepare_X(d_te)\n",
    "w0, w = train_linear_regression_reg(X_trval, y_trval, r=0.001)\n",
    "y_pred_te = w0 + X_te.dot(w)\n",
    "rmse(y_te, y_pred_te)"
   ]
  },
  {
   "cell_type": "code",
   "execution_count": null,
   "id": "d287c6cf-1250-43f8-a757-93a303611222",
   "metadata": {},
   "outputs": [],
   "source": []
  },
  {
   "cell_type": "code",
   "execution_count": null,
   "id": "b38e9364-9f24-4c8a-8374-5790306de444",
   "metadata": {},
   "outputs": [],
   "source": []
  }
 ],
 "metadata": {
  "kernelspec": {
   "display_name": "Python 3 (ipykernel)",
   "language": "python",
   "name": "python3"
  },
  "language_info": {
   "codemirror_mode": {
    "name": "ipython",
    "version": 3
   },
   "file_extension": ".py",
   "mimetype": "text/x-python",
   "name": "python",
   "nbconvert_exporter": "python",
   "pygments_lexer": "ipython3",
   "version": "3.12.1"
  }
 },
 "nbformat": 4,
 "nbformat_minor": 5
}
